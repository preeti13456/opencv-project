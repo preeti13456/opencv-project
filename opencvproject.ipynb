{
 "cells": [
  {
   "cell_type": "code",
   "execution_count": 1,
   "metadata": {},
   "outputs": [
    {
     "data": {
      "text/plain": [
       "<module 'ntpath' from 'C:\\\\Users\\\\preeti sharma\\\\Anaconda3\\\\lib\\\\ntpath.py'>"
      ]
     },
     "execution_count": 1,
     "metadata": {},
     "output_type": "execute_result"
    }
   ],
   "source": [
    "import os\n",
    "os.path"
   ]
  },
  {
   "cell_type": "code",
   "execution_count": 2,
   "metadata": {},
   "outputs": [
    {
     "data": {
      "text/plain": [
       "1"
      ]
     },
     "execution_count": 2,
     "metadata": {},
     "output_type": "execute_result"
    }
   ],
   "source": [
    "os.system(\"date\")"
   ]
  },
  {
   "cell_type": "code",
   "execution_count": 3,
   "metadata": {},
   "outputs": [],
   "source": [
    "import cv2\n",
    "import numpy as np\n",
    "import signal\n",
    "import time\n",
    "import matplotlib.pyplot as plt\n",
    "from IPython import display"
   ]
  },
  {
   "cell_type": "code",
   "execution_count": 4,
   "metadata": {},
   "outputs": [],
   "source": [
    "# Create a VideoCapture object\n",
    "cap = cv2.VideoCapture(0)\n",
    "time.sleep(2)\n",
    "\n",
    "background = 0\n",
    " \n",
    " # Capturing the background\n",
    "for i in range(30): \n",
    "    ret, background = cap.read()\n",
    "    \n",
    " #Capturing the image    \n",
    "while(cap.isOpened()):\n",
    "    \n",
    "    ret, img = cap.read()\n",
    "    \n",
    "    \n",
    "    if not ret:\n",
    "        break\n",
    "    #HSV values    \n",
    "    hsv = cv2.cvtColor(img, cv2.COLOR_BGR2HSV)  #HSB\n",
    "    \n",
    "    lower_red = np.array([0, 120, 70])\n",
    "    upper_red = np.array([10, 255, 255])\n",
    "    mask1 =cv2.inRange(hsv, lower_red, upper_red) #eperating cloak part\n",
    "    \n",
    "    lower_red = np.array([170, 120, 70])\n",
    "    upper_red = np.array([180, 255, 255])\n",
    "    mask2 =cv2.inRange(hsv, lower_red, upper_red) #eperating cloak part\n",
    "    \n",
    "    mask1 = mask1 + mask2\n",
    "    \n",
    "    mask1 = cv2.morphologyEx(mask1, cv2.MORPH_OPEN,\n",
    "                             np.ones((3,3), np.unit8), iterations=2)#noise removal\n",
    "    \n",
    "    mask1 = cv2.morphologyEx(mask1, cv2.MORPH_DILATE,\n",
    "                             np.ones((3,3), np.unit8), iterations=1)\n",
    "        \n",
    "    mask2 = cv2.bitwise_not(mask1)\n",
    "    \n",
    "    res1 = cv2.bitwise_and(background, background, mask=mask1) #used for segmentation of the color\n",
    "    res2 = cv2.bitwise_and(background, background, mask=mask2) #used to substitute the cloak part\n",
    "    final_output = cv2.addWeighted(res1, 1, res2, 1, 0)\n",
    "    \n",
    "    cv2.imshow(\"Eureka!!\", final_output)\n",
    "    k = cv2.waitKey(10) \n",
    "    if k == 27:\n",
    "        break\n",
    "cap.release()        \n",
    "cv2.destroyAllWindows()\n",
    "    \n",
    "    \n",
    "    "
   ]
  },
  {
   "cell_type": "code",
   "execution_count": null,
   "metadata": {},
   "outputs": [],
   "source": [
    "\n",
    "\n"
   ]
  },
  {
   "cell_type": "code",
   "execution_count": null,
   "metadata": {},
   "outputs": [],
   "source": []
  },
  {
   "cell_type": "code",
   "execution_count": null,
   "metadata": {},
   "outputs": [],
   "source": []
  }
 ],
 "metadata": {
  "kernelspec": {
   "display_name": "Python 3",
   "language": "python",
   "name": "python3"
  },
  "language_info": {
   "codemirror_mode": {
    "name": "ipython",
    "version": 3
   },
   "file_extension": ".py",
   "mimetype": "text/x-python",
   "name": "python",
   "nbconvert_exporter": "python",
   "pygments_lexer": "ipython3",
   "version": "3.7.3"
  }
 },
 "nbformat": 4,
 "nbformat_minor": 2
}
